{
  "cells": [
    {
      "cell_type": "markdown",
      "source": [
        "# A direct Machine-Learning approach"
      ],
      "metadata": {
        "id": "btcWjYssFe0f"
      }
    },
    {
      "cell_type": "code",
      "execution_count": null,
      "metadata": {
        "id": "IRsFPmmRANwS"
      },
      "outputs": [],
      "source": [
        "import pandas as pd\n",
        "import numpy as np\n",
        "import matplotlib.pyplot as plt\n",
        "import tensorflow as tf\n",
        "from keras.optimizers import Adam\n",
        "from sklearn.preprocessing import MinMaxScaler\n",
        "from keras.layers import *\n",
        "from keras.models import *\n",
        "from keras.callbacks import *"
      ]
    },
    {
      "cell_type": "markdown",
      "metadata": {
        "id": "BbylSsSzANwX"
      },
      "source": [
        "### Prepocess Data"
      ]
    },
    {
      "cell_type": "code",
      "execution_count": null,
      "metadata": {
        "id": "uSmMpsqJANwZ",
        "colab": {
          "base_uri": "https://localhost:8080/",
          "height": 423
        },
        "outputId": "ba272f81-3e78-40d2-b6a0-7d16c5f40cea"
      },
      "outputs": [
        {
          "output_type": "execute_result",
          "data": {
            "text/plain": [
              "                    start   state\n",
              "0     2021-12-12 19:00:00   103.6\n",
              "1     2021-12-12 20:00:00   103.7\n",
              "2     2021-12-12 21:00:00   104.0\n",
              "3     2021-12-12 22:00:00   104.5\n",
              "4     2021-12-12 23:00:00   104.8\n",
              "...                   ...     ...\n",
              "6986  2022-10-05 17:00:00  1221.0\n",
              "6987  2022-10-05 18:00:00  1221.3\n",
              "6988  2022-10-05 19:00:00  1221.6\n",
              "6989  2022-10-05 20:00:00  1221.9\n",
              "6990  2022-10-05 21:00:00  1222.0\n",
              "\n",
              "[6991 rows x 2 columns]"
            ],
            "text/html": [
              "\n",
              "  <div id=\"df-69b067f1-a3cb-4e1c-a3c7-701763634320\">\n",
              "    <div class=\"colab-df-container\">\n",
              "      <div>\n",
              "<style scoped>\n",
              "    .dataframe tbody tr th:only-of-type {\n",
              "        vertical-align: middle;\n",
              "    }\n",
              "\n",
              "    .dataframe tbody tr th {\n",
              "        vertical-align: top;\n",
              "    }\n",
              "\n",
              "    .dataframe thead th {\n",
              "        text-align: right;\n",
              "    }\n",
              "</style>\n",
              "<table border=\"1\" class=\"dataframe\">\n",
              "  <thead>\n",
              "    <tr style=\"text-align: right;\">\n",
              "      <th></th>\n",
              "      <th>start</th>\n",
              "      <th>state</th>\n",
              "    </tr>\n",
              "  </thead>\n",
              "  <tbody>\n",
              "    <tr>\n",
              "      <th>0</th>\n",
              "      <td>2021-12-12 19:00:00</td>\n",
              "      <td>103.6</td>\n",
              "    </tr>\n",
              "    <tr>\n",
              "      <th>1</th>\n",
              "      <td>2021-12-12 20:00:00</td>\n",
              "      <td>103.7</td>\n",
              "    </tr>\n",
              "    <tr>\n",
              "      <th>2</th>\n",
              "      <td>2021-12-12 21:00:00</td>\n",
              "      <td>104.0</td>\n",
              "    </tr>\n",
              "    <tr>\n",
              "      <th>3</th>\n",
              "      <td>2021-12-12 22:00:00</td>\n",
              "      <td>104.5</td>\n",
              "    </tr>\n",
              "    <tr>\n",
              "      <th>4</th>\n",
              "      <td>2021-12-12 23:00:00</td>\n",
              "      <td>104.8</td>\n",
              "    </tr>\n",
              "    <tr>\n",
              "      <th>...</th>\n",
              "      <td>...</td>\n",
              "      <td>...</td>\n",
              "    </tr>\n",
              "    <tr>\n",
              "      <th>6986</th>\n",
              "      <td>2022-10-05 17:00:00</td>\n",
              "      <td>1221.0</td>\n",
              "    </tr>\n",
              "    <tr>\n",
              "      <th>6987</th>\n",
              "      <td>2022-10-05 18:00:00</td>\n",
              "      <td>1221.3</td>\n",
              "    </tr>\n",
              "    <tr>\n",
              "      <th>6988</th>\n",
              "      <td>2022-10-05 19:00:00</td>\n",
              "      <td>1221.6</td>\n",
              "    </tr>\n",
              "    <tr>\n",
              "      <th>6989</th>\n",
              "      <td>2022-10-05 20:00:00</td>\n",
              "      <td>1221.9</td>\n",
              "    </tr>\n",
              "    <tr>\n",
              "      <th>6990</th>\n",
              "      <td>2022-10-05 21:00:00</td>\n",
              "      <td>1222.0</td>\n",
              "    </tr>\n",
              "  </tbody>\n",
              "</table>\n",
              "<p>6991 rows × 2 columns</p>\n",
              "</div>\n",
              "      <button class=\"colab-df-convert\" onclick=\"convertToInteractive('df-69b067f1-a3cb-4e1c-a3c7-701763634320')\"\n",
              "              title=\"Convert this dataframe to an interactive table.\"\n",
              "              style=\"display:none;\">\n",
              "        \n",
              "  <svg xmlns=\"http://www.w3.org/2000/svg\" height=\"24px\"viewBox=\"0 0 24 24\"\n",
              "       width=\"24px\">\n",
              "    <path d=\"M0 0h24v24H0V0z\" fill=\"none\"/>\n",
              "    <path d=\"M18.56 5.44l.94 2.06.94-2.06 2.06-.94-2.06-.94-.94-2.06-.94 2.06-2.06.94zm-11 1L8.5 8.5l.94-2.06 2.06-.94-2.06-.94L8.5 2.5l-.94 2.06-2.06.94zm10 10l.94 2.06.94-2.06 2.06-.94-2.06-.94-.94-2.06-.94 2.06-2.06.94z\"/><path d=\"M17.41 7.96l-1.37-1.37c-.4-.4-.92-.59-1.43-.59-.52 0-1.04.2-1.43.59L10.3 9.45l-7.72 7.72c-.78.78-.78 2.05 0 2.83L4 21.41c.39.39.9.59 1.41.59.51 0 1.02-.2 1.41-.59l7.78-7.78 2.81-2.81c.8-.78.8-2.07 0-2.86zM5.41 20L4 18.59l7.72-7.72 1.47 1.35L5.41 20z\"/>\n",
              "  </svg>\n",
              "      </button>\n",
              "      \n",
              "  <style>\n",
              "    .colab-df-container {\n",
              "      display:flex;\n",
              "      flex-wrap:wrap;\n",
              "      gap: 12px;\n",
              "    }\n",
              "\n",
              "    .colab-df-convert {\n",
              "      background-color: #E8F0FE;\n",
              "      border: none;\n",
              "      border-radius: 50%;\n",
              "      cursor: pointer;\n",
              "      display: none;\n",
              "      fill: #1967D2;\n",
              "      height: 32px;\n",
              "      padding: 0 0 0 0;\n",
              "      width: 32px;\n",
              "    }\n",
              "\n",
              "    .colab-df-convert:hover {\n",
              "      background-color: #E2EBFA;\n",
              "      box-shadow: 0px 1px 2px rgba(60, 64, 67, 0.3), 0px 1px 3px 1px rgba(60, 64, 67, 0.15);\n",
              "      fill: #174EA6;\n",
              "    }\n",
              "\n",
              "    [theme=dark] .colab-df-convert {\n",
              "      background-color: #3B4455;\n",
              "      fill: #D2E3FC;\n",
              "    }\n",
              "\n",
              "    [theme=dark] .colab-df-convert:hover {\n",
              "      background-color: #434B5C;\n",
              "      box-shadow: 0px 1px 3px 1px rgba(0, 0, 0, 0.15);\n",
              "      filter: drop-shadow(0px 1px 2px rgba(0, 0, 0, 0.3));\n",
              "      fill: #FFFFFF;\n",
              "    }\n",
              "  </style>\n",
              "\n",
              "      <script>\n",
              "        const buttonEl =\n",
              "          document.querySelector('#df-69b067f1-a3cb-4e1c-a3c7-701763634320 button.colab-df-convert');\n",
              "        buttonEl.style.display =\n",
              "          google.colab.kernel.accessAllowed ? 'block' : 'none';\n",
              "\n",
              "        async function convertToInteractive(key) {\n",
              "          const element = document.querySelector('#df-69b067f1-a3cb-4e1c-a3c7-701763634320');\n",
              "          const dataTable =\n",
              "            await google.colab.kernel.invokeFunction('convertToInteractive',\n",
              "                                                     [key], {});\n",
              "          if (!dataTable) return;\n",
              "\n",
              "          const docLinkHtml = 'Like what you see? Visit the ' +\n",
              "            '<a target=\"_blank\" href=https://colab.research.google.com/notebooks/data_table.ipynb>data table notebook</a>'\n",
              "            + ' to learn more about interactive tables.';\n",
              "          element.innerHTML = '';\n",
              "          dataTable['output_type'] = 'display_data';\n",
              "          await google.colab.output.renderOutput(dataTable, element);\n",
              "          const docLink = document.createElement('div');\n",
              "          docLink.innerHTML = docLinkHtml;\n",
              "          element.appendChild(docLink);\n",
              "        }\n",
              "      </script>\n",
              "    </div>\n",
              "  </div>\n",
              "  "
            ]
          },
          "metadata": {},
          "execution_count": 2
        }
      ],
      "source": [
        "cons = pd.read_csv(\"3_statistics.csv\")\n",
        "cons = cons.drop([\"sum\", \"metadata_id\"], axis =1)\n",
        "cons"
      ]
    },
    {
      "cell_type": "markdown",
      "source": [
        "creating a sliding window function"
      ],
      "metadata": {
        "id": "DSWhEXe1DplF"
      }
    },
    {
      "cell_type": "code",
      "execution_count": null,
      "metadata": {
        "id": "BuwlHxnzANwa"
      },
      "outputs": [],
      "source": [
        "def sliding_window(train, window = 2, horizon=1):\n",
        "  tab_x = []\n",
        "  tab_y = []\n",
        "  for i in range(0, len(train)-window-horizon):\n",
        "    x_train = train[i:window+i]\n",
        "    y_train = train[i+window+horizon-1]\n",
        "    tab_x.append(x_train)\n",
        "    tab_y.append(y_train)\n",
        "  tab_x = np.asarray(tab_x)\n",
        "  tab_y = np.asarray(tab_y).reshape(-1, )\n",
        "  return tab_x, tab_y"
      ]
    },
    {
      "cell_type": "markdown",
      "source": [
        "rescaling the data and creating lag features"
      ],
      "metadata": {
        "id": "ROk2gLZxD-zU"
      }
    },
    {
      "cell_type": "code",
      "execution_count": null,
      "metadata": {
        "id": "h4WWco87ANwa",
        "colab": {
          "base_uri": "https://localhost:8080/"
        },
        "outputId": "87e4c6e7-4321-46db-e4e2-b4e9df72c9eb"
      },
      "outputs": [
        {
          "output_type": "execute_result",
          "data": {
            "text/plain": [
              "(5925, 20, 1)"
            ]
          },
          "metadata": {},
          "execution_count": 4
        }
      ],
      "source": [
        "ws = 20\n",
        "scalar = MinMaxScaler(feature_range=(0, 1))\n",
        "scaled_data = scalar.fit_transform(cons.state.to_numpy().reshape(-1, 1))\n",
        "x_train, y_train = sliding_window(scaled_data, window = ws)\n",
        "val_len = int(len(y_train)*(0.15))\n",
        "x_train, x_test = x_train[val_len:], x_train[:val_len]\n",
        "y_train, y_test = y_train[val_len:], y_train[:val_len]\n",
        "x_train = np.reshape(x_train, (x_train.shape[0], x_train.shape[1], 1))\n",
        "x_test = np.reshape(x_test, (x_test.shape[0], x_test.shape[1], 1))\n",
        "y_train = np.reshape(x_train, (x_train.shape[0], x_train.shape[1], 1))\n",
        "y_test = np.reshape(x_test, (x_test.shape[0], x_test.shape[1], 1))\n",
        "y_train.shape"
      ]
    },
    {
      "cell_type": "markdown",
      "metadata": {
        "id": "Tbmmdk9DANwb"
      },
      "source": [
        "### Creating and Training Model\n",
        "\n",
        "First we approached using an RNN for a single step prediction"
      ]
    },
    {
      "cell_type": "code",
      "execution_count": null,
      "metadata": {
        "colab": {
          "base_uri": "https://localhost:8080/"
        },
        "id": "T55EFUGrANwc",
        "outputId": "e4b8da82-7ba6-4e45-c32c-9f32869d4584"
      },
      "outputs": [
        {
          "output_type": "stream",
          "name": "stdout",
          "text": [
            "Model: \"sequential\"\n",
            "_________________________________________________________________\n",
            " Layer (type)                Output Shape              Param #   \n",
            "=================================================================\n",
            " simple_rnn (SimpleRNN)      (None, 20)                440       \n",
            "                                                                 \n",
            " dense (Dense)               (None, 15)                315       \n",
            "                                                                 \n",
            " dense_1 (Dense)             (None, 1)                 16        \n",
            "                                                                 \n",
            "=================================================================\n",
            "Total params: 771\n",
            "Trainable params: 771\n",
            "Non-trainable params: 0\n",
            "_________________________________________________________________\n"
          ]
        }
      ],
      "source": [
        "model= Sequential()\n",
        "model.add(InputLayer(input_shape=(x_train.shape[1],1)))\n",
        "model.add(SimpleRNN(20))\n",
        "model.add(Dense(15))\n",
        "model.add(Dense(1))\n",
        "model.summary()"
      ]
    },
    {
      "cell_type": "code",
      "execution_count": null,
      "metadata": {
        "id": "PGlPzlGIANwe"
      },
      "outputs": [],
      "source": [
        "model.compile(loss='mse',\n",
        "              optimizer=\"adam\",\n",
        "              metrics=\"mse\")"
      ]
    },
    {
      "cell_type": "code",
      "execution_count": null,
      "metadata": {
        "colab": {
          "base_uri": "https://localhost:8080/"
        },
        "id": "AqgFksqeANwf",
        "outputId": "776562a0-a344-4df2-a5e7-bc937dc48a26"
      },
      "outputs": [
        {
          "output_type": "stream",
          "name": "stdout",
          "text": [
            "Epoch 1/30\n",
            "47/47 [==============================] - 6s 39ms/step - loss: 0.3892 - mse: 0.3892 - val_loss: 0.0164 - val_mse: 0.0164\n",
            "Epoch 2/30\n",
            "47/47 [==============================] - 1s 20ms/step - loss: 0.0046 - mse: 0.0046 - val_loss: 3.5455e-04 - val_mse: 3.5455e-04\n",
            "Epoch 3/30\n",
            "47/47 [==============================] - 1s 15ms/step - loss: 9.9365e-05 - mse: 9.9365e-05 - val_loss: 9.5171e-05 - val_mse: 9.5171e-05\n",
            "Epoch 4/30\n",
            "47/47 [==============================] - 1s 14ms/step - loss: 7.3016e-05 - mse: 7.3016e-05 - val_loss: 1.3669e-04 - val_mse: 1.3669e-04\n",
            "Epoch 5/30\n",
            "47/47 [==============================] - 1s 15ms/step - loss: 6.1468e-05 - mse: 6.1468e-05 - val_loss: 2.0668e-04 - val_mse: 2.0668e-04\n",
            "Epoch 6/30\n",
            "47/47 [==============================] - 1s 14ms/step - loss: 5.1954e-05 - mse: 5.1954e-05 - val_loss: 2.9288e-04 - val_mse: 2.9288e-04\n",
            "Epoch 7/30\n",
            "47/47 [==============================] - 1s 16ms/step - loss: 4.4141e-05 - mse: 4.4141e-05 - val_loss: 3.8384e-04 - val_mse: 3.8384e-04\n",
            "Epoch 8/30\n",
            "47/47 [==============================] - 1s 15ms/step - loss: 3.7697e-05 - mse: 3.7697e-05 - val_loss: 4.9002e-04 - val_mse: 4.9002e-04\n",
            "Epoch 9/30\n",
            "47/47 [==============================] - 1s 14ms/step - loss: 3.2494e-05 - mse: 3.2494e-05 - val_loss: 5.9356e-04 - val_mse: 5.9356e-04\n",
            "Epoch 10/30\n",
            "47/47 [==============================] - 1s 16ms/step - loss: 2.8605e-05 - mse: 2.8605e-05 - val_loss: 6.8356e-04 - val_mse: 6.8356e-04\n",
            "Epoch 11/30\n",
            "47/47 [==============================] - 1s 15ms/step - loss: 2.5720e-05 - mse: 2.5720e-05 - val_loss: 7.8076e-04 - val_mse: 7.8076e-04\n",
            "Epoch 12/30\n",
            "47/47 [==============================] - 1s 16ms/step - loss: 2.3399e-05 - mse: 2.3399e-05 - val_loss: 8.4431e-04 - val_mse: 8.4431e-04\n",
            "Epoch 13/30\n",
            "47/47 [==============================] - 1s 15ms/step - loss: 2.1761e-05 - mse: 2.1761e-05 - val_loss: 8.7660e-04 - val_mse: 8.7660e-04\n",
            "Epoch 14/30\n",
            "47/47 [==============================] - 1s 15ms/step - loss: 2.0533e-05 - mse: 2.0533e-05 - val_loss: 9.0286e-04 - val_mse: 9.0286e-04\n",
            "Epoch 15/30\n",
            "47/47 [==============================] - 1s 15ms/step - loss: 1.9178e-05 - mse: 1.9178e-05 - val_loss: 8.9089e-04 - val_mse: 8.9089e-04\n",
            "Epoch 16/30\n",
            "47/47 [==============================] - 1s 14ms/step - loss: 1.8356e-05 - mse: 1.8356e-05 - val_loss: 8.8217e-04 - val_mse: 8.8217e-04\n",
            "Epoch 17/30\n",
            "47/47 [==============================] - 1s 15ms/step - loss: 1.7364e-05 - mse: 1.7364e-05 - val_loss: 8.6070e-04 - val_mse: 8.6070e-04\n",
            "Epoch 18/30\n",
            "47/47 [==============================] - 1s 14ms/step - loss: 1.6655e-05 - mse: 1.6655e-05 - val_loss: 8.6564e-04 - val_mse: 8.6564e-04\n",
            "Epoch 19/30\n",
            "47/47 [==============================] - 1s 14ms/step - loss: 1.6006e-05 - mse: 1.6006e-05 - val_loss: 7.9194e-04 - val_mse: 7.9194e-04\n",
            "Epoch 20/30\n",
            "47/47 [==============================] - 1s 16ms/step - loss: 1.5397e-05 - mse: 1.5397e-05 - val_loss: 7.6876e-04 - val_mse: 7.6876e-04\n",
            "Epoch 21/30\n",
            "47/47 [==============================] - 1s 15ms/step - loss: 1.4619e-05 - mse: 1.4619e-05 - val_loss: 7.1906e-04 - val_mse: 7.1906e-04\n",
            "Epoch 22/30\n",
            "47/47 [==============================] - 1s 15ms/step - loss: 1.3943e-05 - mse: 1.3943e-05 - val_loss: 6.5082e-04 - val_mse: 6.5082e-04\n",
            "Epoch 23/30\n",
            "47/47 [==============================] - 1s 14ms/step - loss: 1.3514e-05 - mse: 1.3514e-05 - val_loss: 6.1061e-04 - val_mse: 6.1061e-04\n",
            "Epoch 24/30\n",
            "47/47 [==============================] - 1s 15ms/step - loss: 1.2805e-05 - mse: 1.2805e-05 - val_loss: 5.5494e-04 - val_mse: 5.5494e-04\n",
            "Epoch 25/30\n",
            "47/47 [==============================] - 1s 14ms/step - loss: 1.2202e-05 - mse: 1.2202e-05 - val_loss: 5.1277e-04 - val_mse: 5.1277e-04\n",
            "Epoch 26/30\n",
            "47/47 [==============================] - 1s 14ms/step - loss: 1.1803e-05 - mse: 1.1803e-05 - val_loss: 4.5031e-04 - val_mse: 4.5031e-04\n",
            "Epoch 27/30\n",
            "47/47 [==============================] - 1s 14ms/step - loss: 1.1284e-05 - mse: 1.1284e-05 - val_loss: 4.2446e-04 - val_mse: 4.2446e-04\n",
            "Epoch 28/30\n",
            "47/47 [==============================] - 1s 14ms/step - loss: 1.0604e-05 - mse: 1.0604e-05 - val_loss: 3.6877e-04 - val_mse: 3.6877e-04\n",
            "Epoch 29/30\n",
            "47/47 [==============================] - 1s 14ms/step - loss: 1.0042e-05 - mse: 1.0042e-05 - val_loss: 3.4229e-04 - val_mse: 3.4229e-04\n",
            "Epoch 30/30\n",
            "47/47 [==============================] - 1s 14ms/step - loss: 9.5723e-06 - mse: 9.5723e-06 - val_loss: 2.9931e-04 - val_mse: 2.9931e-04\n"
          ]
        }
      ],
      "source": [
        "hist = model.fit(x_train, y_train,\n",
        "          epochs=30,\n",
        "          batch_size=128,\n",
        "          validation_data=(x_test, y_test),\n",
        "         )"
      ]
    },
    {
      "cell_type": "code",
      "execution_count": null,
      "metadata": {
        "colab": {
          "base_uri": "https://localhost:8080/"
        },
        "id": "S7UW_Pb-ANwg",
        "outputId": "67c71da5-9375-4c46-aae6-093aa6387e34"
      },
      "outputs": [
        {
          "output_type": "stream",
          "name": "stdout",
          "text": [
            "33/33 [==============================] - 0s 3ms/step\n",
            "prediction: [[148.77718]]\n",
            "Ground Truth: [[103.6]]\n"
          ]
        }
      ],
      "source": [
        "pred = model.predict(x=x_test)[0,0]\n",
        "print(f\"prediction: {scalar.inverse_transform(pred.reshape(-1, 1))}\")\n",
        "print(f\"Ground Truth: {scalar.inverse_transform(y_test[0][0].reshape(-1, 1))}\")"
      ]
    },
    {
      "cell_type": "markdown",
      "source": [
        "#Multi-step Model\n",
        "\n",
        "another model to be tested is one using LSTM (Long short term memory) to produce a multi-step prediction"
      ],
      "metadata": {
        "id": "1IQ9ImXV4r0-"
      }
    },
    {
      "cell_type": "markdown",
      "source": [
        "###Data preparation"
      ],
      "metadata": {
        "id": "HgDMVUnA4ygY"
      }
    },
    {
      "cell_type": "code",
      "source": [
        "#Multi-step Model\n",
        "\n",
        "def sliding_window(train, window = 2, horizon=1):\n",
        "  tab_x = []\n",
        "  for i in range(0, len(train)-window-horizon):\n",
        "    x_train = train[i:window+i]\n",
        "    tab_x.append(x_train)\n",
        "  tab_x = np.asarray(tab_x)\n",
        "  return tab_x\n",
        "\n",
        "ws = 24\n",
        "scalar = MinMaxScaler(feature_range=(0, 1))\n",
        "scaled_data = scalar.fit_transform(cons.state.to_numpy().reshape(-1, 1))\n",
        "scaled_data=scaled_data[1: , :]\n",
        "x_train = sliding_window(scaled_data[:-24], window = ws)\n",
        "y_train= sliding_window(scaled_data[24:], window=ws)\n",
        "val_len = int(len(y_train)*(0.15))\n",
        "x_train, x_test = x_train[val_len:], x_train[:val_len]\n",
        "y_train, y_test = y_train[val_len:], y_train[:val_len]\n",
        "x_train = np.reshape(x_train, (x_train.shape[0], x_train.shape[1], 1))\n",
        "x_test = np.reshape(x_test, (x_test.shape[0], x_test.shape[1], 1))\n",
        "y_train = np.reshape(x_train, (x_train.shape[0], x_train.shape[1], 1))\n",
        "y_test = np.reshape(x_test, (x_test.shape[0], x_test.shape[1], 1))\n",
        "y_train.shape"
      ],
      "metadata": {
        "id": "MbZiXcAHC-ye",
        "colab": {
          "base_uri": "https://localhost:8080/"
        },
        "outputId": "0a072f2d-4859-4049-8e98-ff3f396e4641"
      },
      "execution_count": null,
      "outputs": [
        {
          "output_type": "execute_result",
          "data": {
            "text/plain": [
              "(5900, 24, 1)"
            ]
          },
          "metadata": {},
          "execution_count": 9
        }
      ]
    },
    {
      "cell_type": "markdown",
      "source": [
        "###Model Creation"
      ],
      "metadata": {
        "id": "PijYzbQnD7sw"
      }
    },
    {
      "cell_type": "code",
      "source": [
        "model= Sequential()\n",
        "model.add(InputLayer(input_shape=(x_train.shape[1],1)))\n",
        "model.add(LSTM(300))\n",
        "model.add(Dense(100))\n",
        "model.add(Dense(24))\n",
        "model.add(Reshape((1,24,1)))\n",
        "model.summary()"
      ],
      "metadata": {
        "colab": {
          "base_uri": "https://localhost:8080/"
        },
        "id": "i8y3Fkws00GN",
        "outputId": "44805eb3-676d-4c06-9fb9-e6bcf421897c"
      },
      "execution_count": null,
      "outputs": [
        {
          "output_type": "stream",
          "name": "stdout",
          "text": [
            "Model: \"sequential_1\"\n",
            "_________________________________________________________________\n",
            " Layer (type)                Output Shape              Param #   \n",
            "=================================================================\n",
            " lstm (LSTM)                 (None, 300)               362400    \n",
            "                                                                 \n",
            " dense_2 (Dense)             (None, 100)               30100     \n",
            "                                                                 \n",
            " dense_3 (Dense)             (None, 24)                2424      \n",
            "                                                                 \n",
            " reshape (Reshape)           (None, 1, 24, 1)          0         \n",
            "                                                                 \n",
            "=================================================================\n",
            "Total params: 394,924\n",
            "Trainable params: 394,924\n",
            "Non-trainable params: 0\n",
            "_________________________________________________________________\n"
          ]
        }
      ]
    },
    {
      "cell_type": "markdown",
      "source": [
        "### Model Training"
      ],
      "metadata": {
        "id": "2q1sAtlxEsuD"
      }
    },
    {
      "cell_type": "code",
      "source": [
        "model.compile(loss='mse',\n",
        "              optimizer=\"adam\",\n",
        "              metrics=\"mse\")"
      ],
      "metadata": {
        "id": "tpvB97lzBDBe"
      },
      "execution_count": null,
      "outputs": []
    },
    {
      "cell_type": "code",
      "source": [
        "hist = model.fit(x_train, y_train,\n",
        "          epochs=50,\n",
        "          batch_size=128,\n",
        "          validation_data=(x_test, y_test),\n",
        "         )"
      ],
      "metadata": {
        "colab": {
          "base_uri": "https://localhost:8080/"
        },
        "id": "DYqU-oJcBSS2",
        "outputId": "4b52ea52-f7e6-443f-c3bc-1ae0c0ed0eb0"
      },
      "execution_count": null,
      "outputs": [
        {
          "output_type": "stream",
          "name": "stdout",
          "text": [
            "Epoch 1/50\n",
            "47/47 [==============================] - 5s 18ms/step - loss: 0.0462 - mse: 0.0462 - val_loss: 0.0022 - val_mse: 0.0022\n",
            "Epoch 2/50\n",
            "47/47 [==============================] - 0s 7ms/step - loss: 1.1483e-04 - mse: 1.1483e-04 - val_loss: 2.9779e-04 - val_mse: 2.9779e-04\n",
            "Epoch 3/50\n",
            "47/47 [==============================] - 0s 7ms/step - loss: 6.3998e-06 - mse: 6.3998e-06 - val_loss: 3.2813e-04 - val_mse: 3.2813e-04\n",
            "Epoch 4/50\n",
            "47/47 [==============================] - 0s 7ms/step - loss: 4.4679e-06 - mse: 4.4679e-06 - val_loss: 2.8154e-04 - val_mse: 2.8154e-04\n",
            "Epoch 5/50\n",
            "47/47 [==============================] - 0s 7ms/step - loss: 3.7221e-06 - mse: 3.7221e-06 - val_loss: 2.5220e-04 - val_mse: 2.5220e-04\n",
            "Epoch 6/50\n",
            "47/47 [==============================] - 0s 8ms/step - loss: 3.2815e-06 - mse: 3.2815e-06 - val_loss: 2.1887e-04 - val_mse: 2.1887e-04\n",
            "Epoch 7/50\n",
            "47/47 [==============================] - 0s 7ms/step - loss: 2.9681e-06 - mse: 2.9681e-06 - val_loss: 1.9364e-04 - val_mse: 1.9364e-04\n",
            "Epoch 8/50\n",
            "47/47 [==============================] - 0s 7ms/step - loss: 2.8029e-06 - mse: 2.8029e-06 - val_loss: 1.7258e-04 - val_mse: 1.7258e-04\n",
            "Epoch 9/50\n",
            "47/47 [==============================] - 0s 7ms/step - loss: 2.7171e-06 - mse: 2.7171e-06 - val_loss: 1.5816e-04 - val_mse: 1.5816e-04\n",
            "Epoch 10/50\n",
            "47/47 [==============================] - 0s 8ms/step - loss: 2.8415e-06 - mse: 2.8415e-06 - val_loss: 1.4981e-04 - val_mse: 1.4981e-04\n",
            "Epoch 11/50\n",
            "47/47 [==============================] - 0s 7ms/step - loss: 2.5850e-06 - mse: 2.5850e-06 - val_loss: 1.4416e-04 - val_mse: 1.4416e-04\n",
            "Epoch 12/50\n",
            "47/47 [==============================] - 0s 7ms/step - loss: 2.7073e-06 - mse: 2.7073e-06 - val_loss: 1.2978e-04 - val_mse: 1.2978e-04\n",
            "Epoch 13/50\n",
            "47/47 [==============================] - 0s 8ms/step - loss: 2.5378e-06 - mse: 2.5378e-06 - val_loss: 1.2647e-04 - val_mse: 1.2647e-04\n",
            "Epoch 14/50\n",
            "47/47 [==============================] - 0s 7ms/step - loss: 2.5456e-06 - mse: 2.5456e-06 - val_loss: 1.2734e-04 - val_mse: 1.2734e-04\n",
            "Epoch 15/50\n",
            "47/47 [==============================] - 0s 7ms/step - loss: 2.5194e-06 - mse: 2.5194e-06 - val_loss: 1.2093e-04 - val_mse: 1.2093e-04\n",
            "Epoch 16/50\n",
            "47/47 [==============================] - 0s 7ms/step - loss: 2.5585e-06 - mse: 2.5585e-06 - val_loss: 1.1460e-04 - val_mse: 1.1460e-04\n",
            "Epoch 17/50\n",
            "47/47 [==============================] - 0s 7ms/step - loss: 2.4394e-06 - mse: 2.4394e-06 - val_loss: 1.1836e-04 - val_mse: 1.1836e-04\n",
            "Epoch 18/50\n",
            "47/47 [==============================] - 0s 7ms/step - loss: 2.7257e-06 - mse: 2.7257e-06 - val_loss: 1.1568e-04 - val_mse: 1.1568e-04\n",
            "Epoch 19/50\n",
            "47/47 [==============================] - 0s 7ms/step - loss: 3.1085e-06 - mse: 3.1085e-06 - val_loss: 1.1153e-04 - val_mse: 1.1153e-04\n",
            "Epoch 20/50\n",
            "47/47 [==============================] - 0s 7ms/step - loss: 2.4344e-06 - mse: 2.4344e-06 - val_loss: 1.1715e-04 - val_mse: 1.1715e-04\n",
            "Epoch 21/50\n",
            "47/47 [==============================] - 0s 7ms/step - loss: 2.5946e-06 - mse: 2.5946e-06 - val_loss: 1.1508e-04 - val_mse: 1.1508e-04\n",
            "Epoch 22/50\n",
            "47/47 [==============================] - 1s 11ms/step - loss: 2.7640e-06 - mse: 2.7640e-06 - val_loss: 1.1227e-04 - val_mse: 1.1227e-04\n",
            "Epoch 23/50\n",
            "47/47 [==============================] - 1s 11ms/step - loss: 3.1390e-06 - mse: 3.1390e-06 - val_loss: 1.0624e-04 - val_mse: 1.0624e-04\n",
            "Epoch 24/50\n",
            "47/47 [==============================] - 0s 7ms/step - loss: 2.6053e-06 - mse: 2.6053e-06 - val_loss: 1.0628e-04 - val_mse: 1.0628e-04\n",
            "Epoch 25/50\n",
            "47/47 [==============================] - 1s 11ms/step - loss: 2.6713e-06 - mse: 2.6713e-06 - val_loss: 1.0746e-04 - val_mse: 1.0746e-04\n",
            "Epoch 26/50\n",
            "47/47 [==============================] - 1s 11ms/step - loss: 2.8842e-06 - mse: 2.8842e-06 - val_loss: 1.0487e-04 - val_mse: 1.0487e-04\n",
            "Epoch 27/50\n",
            "47/47 [==============================] - 0s 7ms/step - loss: 2.9092e-06 - mse: 2.9092e-06 - val_loss: 1.0161e-04 - val_mse: 1.0161e-04\n",
            "Epoch 28/50\n",
            "47/47 [==============================] - 0s 10ms/step - loss: 1.1145e-05 - mse: 1.1145e-05 - val_loss: 1.0468e-04 - val_mse: 1.0468e-04\n",
            "Epoch 29/50\n",
            "47/47 [==============================] - 1s 12ms/step - loss: 5.8224e-06 - mse: 5.8224e-06 - val_loss: 9.8484e-05 - val_mse: 9.8484e-05\n",
            "Epoch 30/50\n",
            "47/47 [==============================] - 0s 7ms/step - loss: 5.2653e-06 - mse: 5.2653e-06 - val_loss: 9.0937e-05 - val_mse: 9.0937e-05\n",
            "Epoch 31/50\n",
            "47/47 [==============================] - 0s 7ms/step - loss: 1.9022e-05 - mse: 1.9022e-05 - val_loss: 7.8375e-05 - val_mse: 7.8375e-05\n",
            "Epoch 32/50\n",
            "47/47 [==============================] - 0s 7ms/step - loss: 5.0366e-05 - mse: 5.0366e-05 - val_loss: 9.2225e-05 - val_mse: 9.2225e-05\n",
            "Epoch 33/50\n",
            "47/47 [==============================] - 0s 7ms/step - loss: 9.9033e-06 - mse: 9.9033e-06 - val_loss: 8.5695e-05 - val_mse: 8.5695e-05\n",
            "Epoch 34/50\n",
            "47/47 [==============================] - 0s 7ms/step - loss: 2.0385e-05 - mse: 2.0385e-05 - val_loss: 7.5905e-05 - val_mse: 7.5905e-05\n",
            "Epoch 35/50\n",
            "47/47 [==============================] - 0s 7ms/step - loss: 1.0164e-04 - mse: 1.0164e-04 - val_loss: 4.5058e-05 - val_mse: 4.5058e-05\n",
            "Epoch 36/50\n",
            "47/47 [==============================] - 0s 7ms/step - loss: 1.4595e-05 - mse: 1.4595e-05 - val_loss: 6.6301e-05 - val_mse: 6.6301e-05\n",
            "Epoch 37/50\n",
            "47/47 [==============================] - 0s 7ms/step - loss: 5.9792e-06 - mse: 5.9792e-06 - val_loss: 8.1329e-05 - val_mse: 8.1329e-05\n",
            "Epoch 38/50\n",
            "47/47 [==============================] - 0s 7ms/step - loss: 3.4121e-06 - mse: 3.4121e-06 - val_loss: 7.0515e-05 - val_mse: 7.0515e-05\n",
            "Epoch 39/50\n",
            "47/47 [==============================] - 0s 8ms/step - loss: 2.7851e-05 - mse: 2.7851e-05 - val_loss: 6.6518e-05 - val_mse: 6.6518e-05\n",
            "Epoch 40/50\n",
            "47/47 [==============================] - 0s 7ms/step - loss: 4.4306e-05 - mse: 4.4306e-05 - val_loss: 1.1664e-04 - val_mse: 1.1664e-04\n",
            "Epoch 41/50\n",
            "47/47 [==============================] - 0s 7ms/step - loss: 8.1229e-05 - mse: 8.1229e-05 - val_loss: 4.3394e-05 - val_mse: 4.3394e-05\n",
            "Epoch 42/50\n",
            "47/47 [==============================] - 0s 7ms/step - loss: 8.4886e-06 - mse: 8.4886e-06 - val_loss: 5.3072e-05 - val_mse: 5.3072e-05\n",
            "Epoch 43/50\n",
            "47/47 [==============================] - 0s 7ms/step - loss: 5.7854e-06 - mse: 5.7854e-06 - val_loss: 7.1265e-05 - val_mse: 7.1265e-05\n",
            "Epoch 44/50\n",
            "47/47 [==============================] - 0s 7ms/step - loss: 9.3601e-06 - mse: 9.3601e-06 - val_loss: 7.5970e-05 - val_mse: 7.5970e-05\n",
            "Epoch 45/50\n",
            "47/47 [==============================] - 0s 7ms/step - loss: 1.1739e-04 - mse: 1.1739e-04 - val_loss: 2.5091e-05 - val_mse: 2.5091e-05\n",
            "Epoch 46/50\n",
            "47/47 [==============================] - 0s 7ms/step - loss: 3.1534e-05 - mse: 3.1534e-05 - val_loss: 4.8827e-05 - val_mse: 4.8827e-05\n",
            "Epoch 47/50\n",
            "47/47 [==============================] - 0s 7ms/step - loss: 3.8546e-06 - mse: 3.8546e-06 - val_loss: 5.3571e-05 - val_mse: 5.3571e-05\n",
            "Epoch 48/50\n",
            "47/47 [==============================] - 0s 7ms/step - loss: 6.1077e-06 - mse: 6.1077e-06 - val_loss: 6.5498e-05 - val_mse: 6.5498e-05\n",
            "Epoch 49/50\n",
            "47/47 [==============================] - 0s 7ms/step - loss: 7.0471e-05 - mse: 7.0471e-05 - val_loss: 1.4736e-04 - val_mse: 1.4736e-04\n",
            "Epoch 50/50\n",
            "47/47 [==============================] - 0s 7ms/step - loss: 7.1098e-05 - mse: 7.1098e-05 - val_loss: 3.8724e-05 - val_mse: 3.8724e-05\n"
          ]
        }
      ]
    },
    {
      "cell_type": "markdown",
      "source": [
        "#Forcasting"
      ],
      "metadata": {
        "id": "WNtU60NKEAec"
      }
    },
    {
      "cell_type": "code",
      "source": [
        "cons['state'].shape"
      ],
      "metadata": {
        "colab": {
          "base_uri": "https://localhost:8080/"
        },
        "id": "hzU9-Id-E32o",
        "outputId": "0d2d5607-0e31-4048-a3d3-029e90a6aa92"
      },
      "execution_count": null,
      "outputs": [
        {
          "output_type": "execute_result",
          "data": {
            "text/plain": [
              "(6991,)"
            ]
          },
          "metadata": {},
          "execution_count": 13
        }
      ]
    },
    {
      "cell_type": "code",
      "source": [
        "\n",
        "def forecast(model, history, n_input):\n",
        "\t# flatten data\n",
        "\tdata = history\n",
        "\t#data = data.reshape((data.shape[0]*data.shape[1], data.shape[2]))\n",
        "\t# retrieve last observations for input data\n",
        "\tinput_x = data[-n_input:, 0]\n",
        "\t# reshape into [1, n_input, 1]\n",
        "\tinput_x = input_x.reshape((1, len(input_x), 1))\n",
        "\t# forecast the next week\n",
        "\tyhat = model.predict(input_x, verbose=0)\n",
        "\t# we only want the vector forecast\n",
        "\tyhat = yhat[0]\n",
        "\treturn yhat\n",
        "\n"
      ],
      "metadata": {
        "id": "QS-J7x-aEHZi"
      },
      "execution_count": null,
      "outputs": []
    },
    {
      "cell_type": "code",
      "source": [
        "\n",
        "# Importing libraries\n",
        "import matplotlib.pyplot as plt\n",
        "import numpy as np\n",
        "import math\n",
        "new=forecast(model, x_train, 24)\n",
        "\n",
        "# Using Numpy to create an array X\n",
        "#X = np.arange(0,  , 1)\n",
        "\n",
        "# Assign variables to the y axis part of the curve\n",
        "fact =cons.state.to_numpy().reshape(-1, 1)\n",
        "print(fact)\n",
        "new=forecast(model, fact[-48:-24], 24)\n",
        "new=scalar.inverse_transform(new.reshape(-1, 1))\n",
        "print(new)\n",
        "pre=np.array(fact[:-24].reshape(6967,))\n",
        "post=np.array(new.reshape(24,))\n",
        "pred = np.concatenate((pre, post), axis=0)\n",
        "pred=pred.reshape(6991,)\n",
        "\n",
        "# Plotting both the curves simultaneously\n",
        "plt.plot( scalar.inverse_transform(y_train.reshape(-1, 1))[-24:], color='r', label='Fact')\n",
        "plt.plot( new.reshape(24,), color='g', label='Prediction')\n",
        "\n",
        "# Naming the x-axis, y-axis and the whole graph\n",
        "plt.xlabel(\"Hour\")\n",
        "plt.ylabel(\"KWh\")\n",
        "plt.title(\"Sine and Cosine functions\")\n",
        "\n",
        "# Adding legend, which helps us recognize the curve according to it's color\n",
        "plt.legend()\n",
        "\n",
        "# To load the display window\n",
        "plt.show()"
      ],
      "metadata": {
        "colab": {
          "base_uri": "https://localhost:8080/",
          "height": 833
        },
        "id": "K4ZAjyLFBYdR",
        "outputId": "b607ebf6-444b-41d4-dca2-e186ddb19382"
      },
      "execution_count": null,
      "outputs": [
        {
          "output_type": "stream",
          "name": "stdout",
          "text": [
            "[[ 103.6]\n",
            " [ 103.7]\n",
            " [ 104. ]\n",
            " ...\n",
            " [1221.6]\n",
            " [1221.9]\n",
            " [1222. ]]\n",
            "[[2429.0735 ]\n",
            " [ 235.9958 ]\n",
            " [1551.9962 ]\n",
            " [2443.791  ]\n",
            " [ 621.581  ]\n",
            " [1702.8324 ]\n",
            " [2375.5105 ]\n",
            " [2591.512  ]\n",
            " [2301.5237 ]\n",
            " [1985.5312 ]\n",
            " [2235.4646 ]\n",
            " [ 876.80884]\n",
            " [1742.5707 ]\n",
            " [1126.2067 ]\n",
            " [1410.7196 ]\n",
            " [1902.1003 ]\n",
            " [1780.0382 ]\n",
            " [1106.5005 ]\n",
            " [1254.0299 ]\n",
            " [2678.4407 ]\n",
            " [1875.4875 ]\n",
            " [2372.101  ]\n",
            " [2463.062  ]\n",
            " [2638.6655 ]]\n"
          ]
        },
        {
          "output_type": "display_data",
          "data": {
            "text/plain": [
              "<Figure size 432x288 with 1 Axes>"
            ],
            "image/png": "[encoded data removed]"
          },
          "metadata": {
            "needs_background": "light"
          }
        }
      ]
    },
    {
      "cell_type": "code",
      "source": [
        "pip install scalecast --upgrade"
      ],
      "metadata": {
        "colab": {
          "base_uri": "https://localhost:8080/"
        },
        "id": "flBGDLkbvDKv",
        "outputId": "d610b75a-3e0b-4aa7-a8c8-c7b4b4023fc1"
      },
      "execution_count": null,
      "outputs": [
        {
          "output_type": "stream",
          "name": "stdout",
          "text": [
            "Looking in indexes: https://pypi.org/simple, https://us-python.pkg.dev/colab-wheels/public/simple/\n",
            "Collecting scalecast\n",
            "  Downloading SCALECAST-0.15.12.tar.gz (680 kB)\n",
            "\u001b[K     |████████████████████████████████| 680 kB 14.6 MB/s \n",
            "\u001b[?25hRequirement already satisfied: scikit-learn in /usr/local/lib/python3.8/dist-packages (from scalecast) (1.0.2)\n",
            "Requirement already satisfied: tensorflow in /usr/local/lib/python3.8/dist-packages (from scalecast) (2.9.2)\n",
            "Requirement already satisfied: statsmodels in /usr/local/lib/python3.8/dist-packages (from scalecast) (0.12.2)\n",
            "Requirement already satisfied: scipy in /usr/local/lib/python3.8/dist-packages (from scalecast) (1.7.3)\n",
            "Collecting eli5\n",
            "  Downloading eli5-0.13.0.tar.gz (216 kB)\n",
            "\u001b[K     |████████████████████████████████| 216 kB 73.1 MB/s \n",
            "\u001b[?25hRequirement already satisfied: numpy in /usr/local/lib/python3.8/dist-packages (from scalecast) (1.21.6)\n",
            "Requirement already satisfied: pandas in /usr/local/lib/python3.8/dist-packages (from scalecast) (1.3.5)\n",
            "Requirement already satisfied: matplotlib in /usr/local/lib/python3.8/dist-packages (from scalecast) (3.2.2)\n",
            "Requirement already satisfied: seaborn in /usr/local/lib/python3.8/dist-packages (from scalecast) (0.11.2)\n",
            "Requirement already satisfied: xgboost in /usr/local/lib/python3.8/dist-packages (from scalecast) (0.90)\n",
            "Requirement already satisfied: lightgbm in /usr/local/lib/python3.8/dist-packages (from scalecast) (2.2.3)\n",
            "Requirement already satisfied: openpyxl in /usr/local/lib/python3.8/dist-packages (from scalecast) (3.0.10)\n",
            "Requirement already satisfied: pandas-datareader in /usr/local/lib/python3.8/dist-packages (from scalecast) (0.9.0)\n",
            "Requirement already satisfied: attrs>17.1.0 in /usr/local/lib/python3.8/dist-packages (from eli5->scalecast) (22.1.0)\n",
            "Collecting jinja2>=3.0.0\n",
            "  Downloading Jinja2-3.1.2-py3-none-any.whl (133 kB)\n",
            "\u001b[K     |████████████████████████████████| 133 kB 76.0 MB/s \n",
            "\u001b[?25hRequirement already satisfied: six in /usr/local/lib/python3.8/dist-packages (from eli5->scalecast) (1.15.0)\n",
            "Requirement already satisfied: graphviz in /usr/local/lib/python3.8/dist-packages (from eli5->scalecast) (0.10.1)\n",
            "Requirement already satisfied: tabulate>=0.7.7 in /usr/local/lib/python3.8/dist-packages (from eli5->scalecast) (0.8.10)\n",
            "Requirement already satisfied: MarkupSafe>=2.0 in /usr/local/lib/python3.8/dist-packages (from jinja2>=3.0.0->eli5->scalecast) (2.0.1)\n",
            "Requirement already satisfied: joblib>=0.11 in /usr/local/lib/python3.8/dist-packages (from scikit-learn->scalecast) (1.2.0)\n",
            "Requirement already satisfied: threadpoolctl>=2.0.0 in /usr/local/lib/python3.8/dist-packages (from scikit-learn->scalecast) (3.1.0)\n",
            "Requirement already satisfied: python-dateutil>=2.1 in /usr/local/lib/python3.8/dist-packages (from matplotlib->scalecast) (2.8.2)\n",
            "Requirement already satisfied: kiwisolver>=1.0.1 in /usr/local/lib/python3.8/dist-packages (from matplotlib->scalecast) (1.4.4)\n",
            "Requirement already satisfied: pyparsing!=2.0.4,!=2.1.2,!=2.1.6,>=2.0.1 in /usr/local/lib/python3.8/dist-packages (from matplotlib->scalecast) (3.0.9)\n",
            "Requirement already satisfied: cycler>=0.10 in /usr/local/lib/python3.8/dist-packages (from matplotlib->scalecast) (0.11.0)\n",
            "Requirement already satisfied: et-xmlfile in /usr/local/lib/python3.8/dist-packages (from openpyxl->scalecast) (1.1.0)\n",
            "Requirement already satisfied: pytz>=2017.3 in /usr/local/lib/python3.8/dist-packages (from pandas->scalecast) (2022.6)\n",
            "Requirement already satisfied: requests>=2.19.0 in /usr/local/lib/python3.8/dist-packages (from pandas-datareader->scalecast) (2.23.0)\n",
            "Requirement already satisfied: lxml in /usr/local/lib/python3.8/dist-packages (from pandas-datareader->scalecast) (4.9.1)\n",
            "Requirement already satisfied: idna<3,>=2.5 in /usr/local/lib/python3.8/dist-packages (from requests>=2.19.0->pandas-datareader->scalecast) (2.10)\n",
            "Requirement already satisfied: chardet<4,>=3.0.2 in /usr/local/lib/python3.8/dist-packages (from requests>=2.19.0->pandas-datareader->scalecast) (3.0.4)\n",
            "Requirement already satisfied: certifi>=2017.4.17 in /usr/local/lib/python3.8/dist-packages (from requests>=2.19.0->pandas-datareader->scalecast) (2022.9.24)\n",
            "Requirement already satisfied: urllib3!=1.25.0,!=1.25.1,<1.26,>=1.21.1 in /usr/local/lib/python3.8/dist-packages (from requests>=2.19.0->pandas-datareader->scalecast) (1.24.3)\n",
            "Requirement already satisfied: patsy>=0.5 in /usr/local/lib/python3.8/dist-packages (from statsmodels->scalecast) (0.5.3)\n",
            "Requirement already satisfied: gast<=0.4.0,>=0.2.1 in /usr/local/lib/python3.8/dist-packages (from tensorflow->scalecast) (0.4.0)\n",
            "Requirement already satisfied: keras-preprocessing>=1.1.1 in /usr/local/lib/python3.8/dist-packages (from tensorflow->scalecast) (1.1.2)\n",
            "Requirement already satisfied: packaging in /usr/local/lib/python3.8/dist-packages (from tensorflow->scalecast) (21.3)\n",
            "Requirement already satisfied: flatbuffers<2,>=1.12 in /usr/local/lib/python3.8/dist-packages (from tensorflow->scalecast) (1.12)\n",
            "Requirement already satisfied: setuptools in /usr/local/lib/python3.8/dist-packages (from tensorflow->scalecast) (57.4.0)\n",
            "Requirement already satisfied: protobuf<3.20,>=3.9.2 in /usr/local/lib/python3.8/dist-packages (from tensorflow->scalecast) (3.19.6)\n",
            "Requirement already satisfied: libclang>=13.0.0 in /usr/local/lib/python3.8/dist-packages (from tensorflow->scalecast) (14.0.6)\n",
            "Requirement already satisfied: absl-py>=1.0.0 in /usr/local/lib/python3.8/dist-packages (from tensorflow->scalecast) (1.3.0)\n",
            "Requirement already satisfied: google-pasta>=0.1.1 in /usr/local/lib/python3.8/dist-packages (from tensorflow->scalecast) (0.2.0)\n",
            "Requirement already satisfied: tensorboard<2.10,>=2.9 in /usr/local/lib/python3.8/dist-packages (from tensorflow->scalecast) (2.9.1)\n",
            "Requirement already satisfied: termcolor>=1.1.0 in /usr/local/lib/python3.8/dist-packages (from tensorflow->scalecast) (2.1.1)\n",
            "Requirement already satisfied: tensorflow-io-gcs-filesystem>=0.23.1 in /usr/local/lib/python3.8/dist-packages (from tensorflow->scalecast) (0.28.0)\n",
            "Requirement already satisfied: opt-einsum>=2.3.2 in /usr/local/lib/python3.8/dist-packages (from tensorflow->scalecast) (3.3.0)\n",
            "Requirement already satisfied: astunparse>=1.6.0 in /usr/local/lib/python3.8/dist-packages (from tensorflow->scalecast) (1.6.3)\n",
            "Requirement already satisfied: keras<2.10.0,>=2.9.0rc0 in /usr/local/lib/python3.8/dist-packages (from tensorflow->scalecast) (2.9.0)\n",
            "Requirement already satisfied: typing-extensions>=3.6.6 in /usr/local/lib/python3.8/dist-packages (from tensorflow->scalecast) (4.4.0)\n",
            "Requirement already satisfied: tensorflow-estimator<2.10.0,>=2.9.0rc0 in /usr/local/lib/python3.8/dist-packages (from tensorflow->scalecast) (2.9.0)\n",
            "Requirement already satisfied: h5py>=2.9.0 in /usr/local/lib/python3.8/dist-packages (from tensorflow->scalecast) (3.1.0)\n",
            "Requirement already satisfied: grpcio<2.0,>=1.24.3 in /usr/local/lib/python3.8/dist-packages (from tensorflow->scalecast) (1.51.1)\n",
            "Requirement already satisfied: wrapt>=1.11.0 in /usr/local/lib/python3.8/dist-packages (from tensorflow->scalecast) (1.14.1)\n",
            "Requirement already satisfied: wheel<1.0,>=0.23.0 in /usr/local/lib/python3.8/dist-packages (from astunparse>=1.6.0->tensorflow->scalecast) (0.38.4)\n",
            "Requirement already satisfied: tensorboard-data-server<0.7.0,>=0.6.0 in /usr/local/lib/python3.8/dist-packages (from tensorboard<2.10,>=2.9->tensorflow->scalecast) (0.6.1)\n",
            "Requirement already satisfied: tensorboard-plugin-wit>=1.6.0 in /usr/local/lib/python3.8/dist-packages (from tensorboard<2.10,>=2.9->tensorflow->scalecast) (1.8.1)\n",
            "Requirement already satisfied: markdown>=2.6.8 in /usr/local/lib/python3.8/dist-packages (from tensorboard<2.10,>=2.9->tensorflow->scalecast) (3.4.1)\n",
            "Requirement already satisfied: google-auth-oauthlib<0.5,>=0.4.1 in /usr/local/lib/python3.8/dist-packages (from tensorboard<2.10,>=2.9->tensorflow->scalecast) (0.4.6)\n",
            "Requirement already satisfied: werkzeug>=1.0.1 in /usr/local/lib/python3.8/dist-packages (from tensorboard<2.10,>=2.9->tensorflow->scalecast) (1.0.1)\n",
            "Requirement already satisfied: google-auth<3,>=1.6.3 in /usr/local/lib/python3.8/dist-packages (from tensorboard<2.10,>=2.9->tensorflow->scalecast) (2.15.0)\n",
            "Requirement already satisfied: rsa<5,>=3.1.4 in /usr/local/lib/python3.8/dist-packages (from google-auth<3,>=1.6.3->tensorboard<2.10,>=2.9->tensorflow->scalecast) (4.9)\n",
            "Requirement already satisfied: pyasn1-modules>=0.2.1 in /usr/local/lib/python3.8/dist-packages (from google-auth<3,>=1.6.3->tensorboard<2.10,>=2.9->tensorflow->scalecast) (0.2.8)\n",
            "Requirement already satisfied: cachetools<6.0,>=2.0.0 in /usr/local/lib/python3.8/dist-packages (from google-auth<3,>=1.6.3->tensorboard<2.10,>=2.9->tensorflow->scalecast) (5.2.0)\n",
            "Requirement already satisfied: requests-oauthlib>=0.7.0 in /usr/local/lib/python3.8/dist-packages (from google-auth-oauthlib<0.5,>=0.4.1->tensorboard<2.10,>=2.9->tensorflow->scalecast) (1.3.1)\n",
            "Requirement already satisfied: importlib-metadata>=4.4 in /usr/local/lib/python3.8/dist-packages (from markdown>=2.6.8->tensorboard<2.10,>=2.9->tensorflow->scalecast) (4.13.0)\n",
            "Requirement already satisfied: zipp>=0.5 in /usr/local/lib/python3.8/dist-packages (from importlib-metadata>=4.4->markdown>=2.6.8->tensorboard<2.10,>=2.9->tensorflow->scalecast) (3.11.0)\n",
            "Requirement already satisfied: pyasn1<0.5.0,>=0.4.6 in /usr/local/lib/python3.8/dist-packages (from pyasn1-modules>=0.2.1->google-auth<3,>=1.6.3->tensorboard<2.10,>=2.9->tensorflow->scalecast) (0.4.8)\n",
            "Requirement already satisfied: oauthlib>=3.0.0 in /usr/local/lib/python3.8/dist-packages (from requests-oauthlib>=0.7.0->google-auth-oauthlib<0.5,>=0.4.1->tensorboard<2.10,>=2.9->tensorflow->scalecast) (3.2.2)\n",
            "Building wheels for collected packages: scalecast, eli5\n",
            "  Building wheel for scalecast (setup.py) ... \u001b[?25l\u001b[?25hdone\n",
            "  Created wheel for scalecast: filename=SCALECAST-0.15.12-py3-none-any.whl size=110092 sha256=be275a33820d4170ba54069940d6db95eb4b68ef57e72f2924c372b8da413e81\n",
            "  Stored in directory: /root/.cache/pip/wheels/a4/88/cd/5ad159f36ef3de3396bcce0f0ebf7f0fab3f0b5b0d2e427317\n",
            "  Building wheel for eli5 (setup.py) ... \u001b[?25l\u001b[?25hdone\n",
            "  Created wheel for eli5: filename=eli5-0.13.0-py2.py3-none-any.whl size=107748 sha256=832b9a67ac0bd926459b6d05d50a4c31f5fc96978dcd7ab5142294f7160fbadf\n",
            "  Stored in directory: /root/.cache/pip/wheels/85/ac/25/ffcd87ef8f9b1eec324fdf339359be71f22612459d8c75d89c\n",
            "Successfully built scalecast eli5\n",
            "Installing collected packages: jinja2, eli5, scalecast\n",
            "  Attempting uninstall: jinja2\n",
            "    Found existing installation: Jinja2 2.11.3\n",
            "    Uninstalling Jinja2-2.11.3:\n",
            "      Successfully uninstalled Jinja2-2.11.3\n",
            "\u001b[31mERROR: pip's dependency resolver does not currently take into account all the packages that are installed. This behaviour is the source of the following dependency conflicts.\n",
            "notebook 5.7.16 requires jinja2<=3.0.0, but you have jinja2 3.1.2 which is incompatible.\n",
            "flask 1.1.4 requires Jinja2<3.0,>=2.10.1, but you have jinja2 3.1.2 which is incompatible.\u001b[0m\n",
            "Successfully installed eli5-0.13.0 jinja2-3.1.2 scalecast-0.15.12\n"
          ]
        }
      ]
    },
    {
      "cell_type": "code",
      "source": [
        "\n",
        "import pandas as pd\n",
        "import numpy as np\n",
        "import pickle\n",
        "import seaborn as sns\n",
        "import matplotlib.pyplot as plt\n",
        "from scalecast.Forecaster import Forecaster\n",
        "from tensorflow.keras import regularizers"
      ],
      "metadata": {
        "id": "_QJLkIcmGeZD"
      },
      "execution_count": null,
      "outputs": []
    },
    {
      "cell_type": "code",
      "source": [
        "from pandas.core.frame import Frequency\n",
        "sns.set(rc={'figure.figsize':(15,8)})\n",
        "df = pd.read_csv('3_statistics.csv',parse_dates=['start'])\n",
        "print(df)\n",
        "df['Datetime'] = pd.to_datetime(df['start'])\n",
        "dates= df['Datetime']\n",
        "df = df.set_index('Datetime')\n",
        "\n",
        "df=df.drop(['sum','metadata_id','start'], axis=1)\n",
        "df=df.asfreq('h')\n",
        "df=df.asfreq(freq='H')\n",
        "dti = pd.date_range(\"2021-12-12 20:00:00\", periods=6991, freq=\"H\")\n",
        "df=df.diff()\n",
        "df = df.iloc[1: , :]\n",
        "df"
      ],
      "metadata": {
        "colab": {
          "base_uri": "https://localhost:8080/",
          "height": 698
        },
        "id": "oZf-7SQku79w",
        "outputId": "3c1b6762-fe33-436c-f0e6-8349369950a2"
      },
      "execution_count": null,
      "outputs": [
        {
          "output_type": "stream",
          "name": "stdout",
          "text": [
            "                   start   state     sum  metadata_id\n",
            "0    2021-12-12 19:00:00   103.6     0.0            3\n",
            "1    2021-12-12 20:00:00   103.7     0.1            3\n",
            "2    2021-12-12 21:00:00   104.0     0.4            3\n",
            "3    2021-12-12 22:00:00   104.5     0.9            3\n",
            "4    2021-12-12 23:00:00   104.8     1.2            3\n",
            "...                  ...     ...     ...          ...\n",
            "6986 2022-10-05 17:00:00  1221.0  1099.5            3\n",
            "6987 2022-10-05 18:00:00  1221.3  1099.8            3\n",
            "6988 2022-10-05 19:00:00  1221.6  1100.1            3\n",
            "6989 2022-10-05 20:00:00  1221.9  1100.4            3\n",
            "6990 2022-10-05 21:00:00  1222.0  1100.5            3\n",
            "\n",
            "[6991 rows x 4 columns]\n"
          ]
        },
        {
          "output_type": "execute_result",
          "data": {
            "text/plain": [
              "                     state\n",
              "Datetime                  \n",
              "2021-12-12 20:00:00    0.1\n",
              "2021-12-12 21:00:00    0.3\n",
              "2021-12-12 22:00:00    0.5\n",
              "2021-12-12 23:00:00    0.3\n",
              "2021-12-13 00:00:00    0.0\n",
              "...                    ...\n",
              "2022-10-05 17:00:00    0.4\n",
              "2022-10-05 18:00:00    0.3\n",
              "2022-10-05 19:00:00    0.3\n",
              "2022-10-05 20:00:00    0.3\n",
              "2022-10-05 21:00:00    0.1\n",
              "\n",
              "[7130 rows x 1 columns]"
            ],
            "text/html": [
              "\n",
              "  <div id=\"df-80416396-acef-48b0-a4e8-820fd052c377\">\n",
              "    <div class=\"colab-df-container\">\n",
              "      <div>\n",
              "<style scoped>\n",
              "    .dataframe tbody tr th:only-of-type {\n",
              "        vertical-align: middle;\n",
              "    }\n",
              "\n",
              "    .dataframe tbody tr th {\n",
              "        vertical-align: top;\n",
              "    }\n",
              "\n",
              "    .dataframe thead th {\n",
              "        text-align: right;\n",
              "    }\n",
              "</style>\n",
              "<table border=\"1\" class=\"dataframe\">\n",
              "  <thead>\n",
              "    <tr style=\"text-align: right;\">\n",
              "      <th></th>\n",
              "      <th>state</th>\n",
              "    </tr>\n",
              "    <tr>\n",
              "      <th>Datetime</th>\n",
              "      <th></th>\n",
              "    </tr>\n",
              "  </thead>\n",
              "  <tbody>\n",
              "    <tr>\n",
              "      <th>2021-12-12 20:00:00</th>\n",
              "      <td>0.1</td>\n",
              "    </tr>\n",
              "    <tr>\n",
              "      <th>2021-12-12 21:00:00</th>\n",
              "      <td>0.3</td>\n",
              "    </tr>\n",
              "    <tr>\n",
              "      <th>2021-12-12 22:00:00</th>\n",
              "      <td>0.5</td>\n",
              "    </tr>\n",
              "    <tr>\n",
              "      <th>2021-12-12 23:00:00</th>\n",
              "      <td>0.3</td>\n",
              "    </tr>\n",
              "    <tr>\n",
              "      <th>2021-12-13 00:00:00</th>\n",
              "      <td>0.0</td>\n",
              "    </tr>\n",
              "    <tr>\n",
              "      <th>...</th>\n",
              "      <td>...</td>\n",
              "    </tr>\n",
              "    <tr>\n",
              "      <th>2022-10-05 17:00:00</th>\n",
              "      <td>0.4</td>\n",
              "    </tr>\n",
              "    <tr>\n",
              "      <th>2022-10-05 18:00:00</th>\n",
              "      <td>0.3</td>\n",
              "    </tr>\n",
              "    <tr>\n",
              "      <th>2022-10-05 19:00:00</th>\n",
              "      <td>0.3</td>\n",
              "    </tr>\n",
              "    <tr>\n",
              "      <th>2022-10-05 20:00:00</th>\n",
              "      <td>0.3</td>\n",
              "    </tr>\n",
              "    <tr>\n",
              "      <th>2022-10-05 21:00:00</th>\n",
              "      <td>0.1</td>\n",
              "    </tr>\n",
              "  </tbody>\n",
              "</table>\n",
              "<p>7130 rows × 1 columns</p>\n",
              "</div>\n",
              "      <button class=\"colab-df-convert\" onclick=\"convertToInteractive('df-80416396-acef-48b0-a4e8-820fd052c377')\"\n",
              "              title=\"Convert this dataframe to an interactive table.\"\n",
              "              style=\"display:none;\">\n",
              "        \n",
              "  <svg xmlns=\"http://www.w3.org/2000/svg\" height=\"24px\"viewBox=\"0 0 24 24\"\n",
              "       width=\"24px\">\n",
              "    <path d=\"M0 0h24v24H0V0z\" fill=\"none\"/>\n",
              "    <path d=\"M18.56 5.44l.94 2.06.94-2.06 2.06-.94-2.06-.94-.94-2.06-.94 2.06-2.06.94zm-11 1L8.5 8.5l.94-2.06 2.06-.94-2.06-.94L8.5 2.5l-.94 2.06-2.06.94zm10 10l.94 2.06.94-2.06 2.06-.94-2.06-.94-.94-2.06-.94 2.06-2.06.94z\"/><path d=\"M17.41 7.96l-1.37-1.37c-.4-.4-.92-.59-1.43-.59-.52 0-1.04.2-1.43.59L10.3 9.45l-7.72 7.72c-.78.78-.78 2.05 0 2.83L4 21.41c.39.39.9.59 1.41.59.51 0 1.02-.2 1.41-.59l7.78-7.78 2.81-2.81c.8-.78.8-2.07 0-2.86zM5.41 20L4 18.59l7.72-7.72 1.47 1.35L5.41 20z\"/>\n",
              "  </svg>\n",
              "      </button>\n",
              "      \n",
              "  <style>\n",
              "    .colab-df-container {\n",
              "      display:flex;\n",
              "      flex-wrap:wrap;\n",
              "      gap: 12px;\n",
              "    }\n",
              "\n",
              "    .colab-df-convert {\n",
              "      background-color: #E8F0FE;\n",
              "      border: none;\n",
              "      border-radius: 50%;\n",
              "      cursor: pointer;\n",
              "      display: none;\n",
              "      fill: #1967D2;\n",
              "      height: 32px;\n",
              "      padding: 0 0 0 0;\n",
              "      width: 32px;\n",
              "    }\n",
              "\n",
              "    .colab-df-convert:hover {\n",
              "      background-color: #E2EBFA;\n",
              "      box-shadow: 0px 1px 2px rgba(60, 64, 67, 0.3), 0px 1px 3px 1px rgba(60, 64, 67, 0.15);\n",
              "      fill: #174EA6;\n",
              "    }\n",
              "\n",
              "    [theme=dark] .colab-df-convert {\n",
              "      background-color: #3B4455;\n",
              "      fill: #D2E3FC;\n",
              "    }\n",
              "\n",
              "    [theme=dark] .colab-df-convert:hover {\n",
              "      background-color: #434B5C;\n",
              "      box-shadow: 0px 1px 3px 1px rgba(0, 0, 0, 0.15);\n",
              "      filter: drop-shadow(0px 1px 2px rgba(0, 0, 0, 0.3));\n",
              "      fill: #FFFFFF;\n",
              "    }\n",
              "  </style>\n",
              "\n",
              "      <script>\n",
              "        const buttonEl =\n",
              "          document.querySelector('#df-80416396-acef-48b0-a4e8-820fd052c377 button.colab-df-convert');\n",
              "        buttonEl.style.display =\n",
              "          google.colab.kernel.accessAllowed ? 'block' : 'none';\n",
              "\n",
              "        async function convertToInteractive(key) {\n",
              "          const element = document.querySelector('#df-80416396-acef-48b0-a4e8-820fd052c377');\n",
              "          const dataTable =\n",
              "            await google.colab.kernel.invokeFunction('convertToInteractive',\n",
              "                                                     [key], {});\n",
              "          if (!dataTable) return;\n",
              "\n",
              "          const docLinkHtml = 'Like what you see? Visit the ' +\n",
              "            '<a target=\"_blank\" href=https://colab.research.google.com/notebooks/data_table.ipynb>data table notebook</a>'\n",
              "            + ' to learn more about interactive tables.';\n",
              "          element.innerHTML = '';\n",
              "          dataTable['output_type'] = 'display_data';\n",
              "          await google.colab.output.renderOutput(dataTable, element);\n",
              "          const docLink = document.createElement('div');\n",
              "          docLink.innerHTML = docLinkHtml;\n",
              "          element.appendChild(docLink);\n",
              "        }\n",
              "      </script>\n",
              "    </div>\n",
              "  </div>\n",
              "  "
            ]
          },
          "metadata": {},
          "execution_count": 18
        }
      ]
    },
    {
      "cell_type": "code",
      "source": [
        "f = Forecaster(y=df['state'],current_dates=dti)\n",
        "f"
      ],
      "metadata": {
        "colab": {
          "base_uri": "https://localhost:8080/"
        },
        "id": "S2TAKlaYvYID",
        "outputId": "370dd135-a51d-458d-c609-6247e16478e5"
      },
      "execution_count": null,
      "outputs": [
        {
          "output_type": "execute_result",
          "data": {
            "text/plain": [
              "Forecaster(\n",
              "    DateStartActuals=2021-12-13T15:00:00.000000000\n",
              "    DateEndActuals=2022-09-30T02:00:00.000000000\n",
              "    Freq=H\n",
              "    N_actuals=6972\n",
              "    ForecastLength=0\n",
              "    Xvars=[]\n",
              "    Differenced=0\n",
              "    TestLength=1\n",
              "    ValidationLength=1\n",
              "    ValidationMetric=rmse\n",
              "    ForecastsEvaluated=[]\n",
              "    CILevel=0.95\n",
              "    BootstrapSamples=100\n",
              "    CurrentEstimator=None\n",
              "    GridsFile=Grids\n",
              ")"
            ]
          },
          "metadata": {},
          "execution_count": 19
        }
      ]
    },
    {
      "cell_type": "code",
      "source": [
        "f.plot_pacf(lags=50)\n",
        "plt.show()"
      ],
      "metadata": {
        "colab": {
          "base_uri": "https://localhost:8080/",
          "height": 501
        },
        "id": "PF8Y-GjWvfhw",
        "outputId": "7879dc72-e463-4a84-e851-f44ac3b7505e"
      },
      "execution_count": null,
      "outputs": [
        {
          "output_type": "display_data",
          "data": {
            "text/plain": [
              "<Figure size 1080x576 with 1 Axes>"
            ],
            "image/png": "[encoded data removed]"
          },
          "metadata": {}
        }
      ]
    },
    {
      "cell_type": "code",
      "source": [
        "f"
      ],
      "metadata": {
        "colab": {
          "base_uri": "https://localhost:8080/"
        },
        "id": "k5HMpTNMwSNL",
        "outputId": "45a26b67-7a56-4d9c-d5fa-aff23cfac34e"
      },
      "execution_count": null,
      "outputs": [
        {
          "output_type": "execute_result",
          "data": {
            "text/plain": [
              "Forecaster(\n",
              "    DateStartActuals=2021-12-13T15:00:00.000000000\n",
              "    DateEndActuals=2022-09-30T02:00:00.000000000\n",
              "    Freq=H\n",
              "    N_actuals=6972\n",
              "    ForecastLength=0\n",
              "    Xvars=[]\n",
              "    Differenced=0\n",
              "    TestLength=1\n",
              "    ValidationLength=1\n",
              "    ValidationMetric=rmse\n",
              "    ForecastsEvaluated=[]\n",
              "    CILevel=0.95\n",
              "    BootstrapSamples=100\n",
              "    CurrentEstimator=None\n",
              "    GridsFile=Grids\n",
              ")"
            ]
          },
          "metadata": {},
          "execution_count": 21
        }
      ]
    },
    {
      "cell_type": "code",
      "source": [
        "f.seasonal_decompose().plot()\n",
        "plt.show()"
      ],
      "metadata": {
        "colab": {
          "base_uri": "https://localhost:8080/",
          "height": 532
        },
        "id": "ZYCvM4mhvpCf",
        "outputId": "58d4b823-db14-4b82-cb27-87747e26c7e9"
      },
      "execution_count": null,
      "outputs": [
        {
          "output_type": "display_data",
          "data": {
            "text/plain": [
              "<Figure size 1080x576 with 4 Axes>"
            ],
            "image/png": "[encoded data removed]"
          },
          "metadata": {}
        }
      ]
    },
    {
      "cell_type": "code",
      "source": [
        "df\n",
        "#df=df.dropna()\n",
        "df"
      ],
      "metadata": {
        "colab": {
          "base_uri": "https://localhost:8080/",
          "height": 455
        },
        "id": "w5u4LPGstOVM",
        "outputId": "046e430b-c6ff-4b6c-e4ca-2c90046d712a"
      },
      "execution_count": null,
      "outputs": [
        {
          "output_type": "execute_result",
          "data": {
            "text/plain": [
              "                     state\n",
              "Datetime                  \n",
              "2021-12-12 20:00:00    0.1\n",
              "2021-12-12 21:00:00    0.3\n",
              "2021-12-12 22:00:00    0.5\n",
              "2021-12-12 23:00:00    0.3\n",
              "2021-12-13 00:00:00    0.0\n",
              "...                    ...\n",
              "2022-10-05 17:00:00    0.4\n",
              "2022-10-05 18:00:00    0.3\n",
              "2022-10-05 19:00:00    0.3\n",
              "2022-10-05 20:00:00    0.3\n",
              "2022-10-05 21:00:00    0.1\n",
              "\n",
              "[7130 rows x 1 columns]"
            ],
            "text/html": [
              "\n",
              "  <div id=\"df-97eb1fed-2b41-4de7-9b0a-14f7d10549c5\">\n",
              "    <div class=\"colab-df-container\">\n",
              "      <div>\n",
              "<style scoped>\n",
              "    .dataframe tbody tr th:only-of-type {\n",
              "        vertical-align: middle;\n",
              "    }\n",
              "\n",
              "    .dataframe tbody tr th {\n",
              "        vertical-align: top;\n",
              "    }\n",
              "\n",
              "    .dataframe thead th {\n",
              "        text-align: right;\n",
              "    }\n",
              "</style>\n",
              "<table border=\"1\" class=\"dataframe\">\n",
              "  <thead>\n",
              "    <tr style=\"text-align: right;\">\n",
              "      <th></th>\n",
              "      <th>state</th>\n",
              "    </tr>\n",
              "    <tr>\n",
              "      <th>Datetime</th>\n",
              "      <th></th>\n",
              "    </tr>\n",
              "  </thead>\n",
              "  <tbody>\n",
              "    <tr>\n",
              "      <th>2021-12-12 20:00:00</th>\n",
              "      <td>0.1</td>\n",
              "    </tr>\n",
              "    <tr>\n",
              "      <th>2021-12-12 21:00:00</th>\n",
              "      <td>0.3</td>\n",
              "    </tr>\n",
              "    <tr>\n",
              "      <th>2021-12-12 22:00:00</th>\n",
              "      <td>0.5</td>\n",
              "    </tr>\n",
              "    <tr>\n",
              "      <th>2021-12-12 23:00:00</th>\n",
              "      <td>0.3</td>\n",
              "    </tr>\n",
              "    <tr>\n",
              "      <th>2021-12-13 00:00:00</th>\n",
              "      <td>0.0</td>\n",
              "    </tr>\n",
              "    <tr>\n",
              "      <th>...</th>\n",
              "      <td>...</td>\n",
              "    </tr>\n",
              "    <tr>\n",
              "      <th>2022-10-05 17:00:00</th>\n",
              "      <td>0.4</td>\n",
              "    </tr>\n",
              "    <tr>\n",
              "      <th>2022-10-05 18:00:00</th>\n",
              "      <td>0.3</td>\n",
              "    </tr>\n",
              "    <tr>\n",
              "      <th>2022-10-05 19:00:00</th>\n",
              "      <td>0.3</td>\n",
              "    </tr>\n",
              "    <tr>\n",
              "      <th>2022-10-05 20:00:00</th>\n",
              "      <td>0.3</td>\n",
              "    </tr>\n",
              "    <tr>\n",
              "      <th>2022-10-05 21:00:00</th>\n",
              "      <td>0.1</td>\n",
              "    </tr>\n",
              "  </tbody>\n",
              "</table>\n",
              "<p>7130 rows × 1 columns</p>\n",
              "</div>\n",
              "      <button class=\"colab-df-convert\" onclick=\"convertToInteractive('df-97eb1fed-2b41-4de7-9b0a-14f7d10549c5')\"\n",
              "              title=\"Convert this dataframe to an interactive table.\"\n",
              "              style=\"display:none;\">\n",
              "        \n",
              "  <svg xmlns=\"http://www.w3.org/2000/svg\" height=\"24px\"viewBox=\"0 0 24 24\"\n",
              "       width=\"24px\">\n",
              "    <path d=\"M0 0h24v24H0V0z\" fill=\"none\"/>\n",
              "    <path d=\"M18.56 5.44l.94 2.06.94-2.06 2.06-.94-2.06-.94-.94-2.06-.94 2.06-2.06.94zm-11 1L8.5 8.5l.94-2.06 2.06-.94-2.06-.94L8.5 2.5l-.94 2.06-2.06.94zm10 10l.94 2.06.94-2.06 2.06-.94-2.06-.94-.94-2.06-.94 2.06-2.06.94z\"/><path d=\"M17.41 7.96l-1.37-1.37c-.4-.4-.92-.59-1.43-.59-.52 0-1.04.2-1.43.59L10.3 9.45l-7.72 7.72c-.78.78-.78 2.05 0 2.83L4 21.41c.39.39.9.59 1.41.59.51 0 1.02-.2 1.41-.59l7.78-7.78 2.81-2.81c.8-.78.8-2.07 0-2.86zM5.41 20L4 18.59l7.72-7.72 1.47 1.35L5.41 20z\"/>\n",
              "  </svg>\n",
              "      </button>\n",
              "      \n",
              "  <style>\n",
              "    .colab-df-container {\n",
              "      display:flex;\n",
              "      flex-wrap:wrap;\n",
              "      gap: 12px;\n",
              "    }\n",
              "\n",
              "    .colab-df-convert {\n",
              "      background-color: #E8F0FE;\n",
              "      border: none;\n",
              "      border-radius: 50%;\n",
              "      cursor: pointer;\n",
              "      display: none;\n",
              "      fill: #1967D2;\n",
              "      height: 32px;\n",
              "      padding: 0 0 0 0;\n",
              "      width: 32px;\n",
              "    }\n",
              "\n",
              "    .colab-df-convert:hover {\n",
              "      background-color: #E2EBFA;\n",
              "      box-shadow: 0px 1px 2px rgba(60, 64, 67, 0.3), 0px 1px 3px 1px rgba(60, 64, 67, 0.15);\n",
              "      fill: #174EA6;\n",
              "    }\n",
              "\n",
              "    [theme=dark] .colab-df-convert {\n",
              "      background-color: #3B4455;\n",
              "      fill: #D2E3FC;\n",
              "    }\n",
              "\n",
              "    [theme=dark] .colab-df-convert:hover {\n",
              "      background-color: #434B5C;\n",
              "      box-shadow: 0px 1px 3px 1px rgba(0, 0, 0, 0.15);\n",
              "      filter: drop-shadow(0px 1px 2px rgba(0, 0, 0, 0.3));\n",
              "      fill: #FFFFFF;\n",
              "    }\n",
              "  </style>\n",
              "\n",
              "      <script>\n",
              "        const buttonEl =\n",
              "          document.querySelector('#df-97eb1fed-2b41-4de7-9b0a-14f7d10549c5 button.colab-df-convert');\n",
              "        buttonEl.style.display =\n",
              "          google.colab.kernel.accessAllowed ? 'block' : 'none';\n",
              "\n",
              "        async function convertToInteractive(key) {\n",
              "          const element = document.querySelector('#df-97eb1fed-2b41-4de7-9b0a-14f7d10549c5');\n",
              "          const dataTable =\n",
              "            await google.colab.kernel.invokeFunction('convertToInteractive',\n",
              "                                                     [key], {});\n",
              "          if (!dataTable) return;\n",
              "\n",
              "          const docLinkHtml = 'Like what you see? Visit the ' +\n",
              "            '<a target=\"_blank\" href=https://colab.research.google.com/notebooks/data_table.ipynb>data table notebook</a>'\n",
              "            + ' to learn more about interactive tables.';\n",
              "          element.innerHTML = '';\n",
              "          dataTable['output_type'] = 'display_data';\n",
              "          await google.colab.output.renderOutput(dataTable, element);\n",
              "          const docLink = document.createElement('div');\n",
              "          docLink.innerHTML = docLinkHtml;\n",
              "          element.appendChild(docLink);\n",
              "        }\n",
              "      </script>\n",
              "    </div>\n",
              "  </div>\n",
              "  "
            ]
          },
          "metadata": {},
          "execution_count": 23
        }
      ]
    },
    {
      "cell_type": "code",
      "source": [
        "#Multi-step Model\n",
        "\n",
        "def sliding_window(train, window = 2, horizon=1):\n",
        "  tab_x = []\n",
        "  for i in range(0, len(train)-window-horizon):\n",
        "    x_train = train[i:window+i]\n",
        "    tab_x.append(x_train)\n",
        "  tab_x = np.asarray(tab_x)\n",
        "  return tab_x\n",
        "\n",
        "ws = 24\n",
        "scalar = MinMaxScaler(feature_range=(0, 1))\n",
        "scaled_data = scaled_data = scalar.fit_transform(df.state.to_numpy().reshape(-1, 1))\n",
        "scaled_data=scaled_data[1: , :]\n",
        "scaled_data = scaled_data[~np.isnan(scaled_data)]\n",
        "x_train = sliding_window(scaled_data[:-24], window = 336)\n",
        "y_train= sliding_window(scaled_data[24:], window=ws, horizon=312)\n",
        "y_train=y_train[1:]\n",
        "val_len = int(len(y_train)*(0.15))\n",
        "x_train, x_test = x_train[val_len:], x_train[:val_len]\n",
        "y_train, y_test = y_train[val_len:], y_train[:val_len]\n",
        "x_train = np.reshape(x_train, (x_train.shape[0], x_train.shape[1], 1))\n",
        "x_test = np.reshape(x_test, (x_test.shape[0], x_test.shape[1], 1))\n",
        "#x_train=x_train[:-1]\n",
        "print(y_train.shape)\n",
        "#y_train = np.reshape(y_train, ( 24,1))\n",
        "#y_test = np.reshape(y_test, (1, 24, 1))\n",
        "print(x_train.shape,y_train.shape)"
      ],
      "metadata": {
        "id": "ooWRSZy5wK9C",
        "colab": {
          "base_uri": "https://localhost:8080/"
        },
        "outputId": "5f214ace-0d12-4437-c40f-0e31f2a8cd2c"
      },
      "execution_count": null,
      "outputs": [
        {
          "output_type": "stream",
          "name": "stdout",
          "text": [
            "(5619, 24)\n",
            "(5619, 336, 1) (5619, 24)\n"
          ]
        }
      ]
    },
    {
      "cell_type": "code",
      "source": [
        "model= Sequential()\n",
        "model.add(InputLayer(input_shape=(x_train.shape[1],1)))\n",
        "model.add(LSTM(300,bias_regularizer=regularizers.L2(0.05),dropout=0.1,))\n",
        "model.add(Dense(300, activation='relu'))\n",
        "model.add(Dense(24, activation='relu'))\n",
        "model.add(Reshape((1,24)))\n",
        "model.summary()"
      ],
      "metadata": {
        "colab": {
          "base_uri": "https://localhost:8080/"
        },
        "id": "BoH3e9PauUjM",
        "outputId": "65422aab-afd2-4f9d-9daf-c6a405d0f1ba"
      },
      "execution_count": null,
      "outputs": [
        {
          "output_type": "stream",
          "name": "stdout",
          "text": [
            "Model: \"sequential_2\"\n",
            "_________________________________________________________________\n",
            " Layer (type)                Output Shape              Param #   \n",
            "=================================================================\n",
            " lstm_1 (LSTM)               (None, 300)               362400    \n",
            "                                                                 \n",
            " dense_4 (Dense)             (None, 300)               90300     \n",
            "                                                                 \n",
            " dense_5 (Dense)             (None, 24)                7224      \n",
            "                                                                 \n",
            " reshape_1 (Reshape)         (None, 1, 24)             0         \n",
            "                                                                 \n",
            "=================================================================\n",
            "Total params: 459,924\n",
            "Trainable params: 459,924\n",
            "Non-trainable params: 0\n",
            "_________________________________________________________________\n"
          ]
        }
      ]
    },
    {
      "cell_type": "code",
      "source": [
        "model.compile(loss='mae',\n",
        "              optimizer=\"adam\",\n",
        "              metrics=\"mse\")"
      ],
      "metadata": {
        "id": "KAt9ZRR4uih5"
      },
      "execution_count": null,
      "outputs": []
    },
    {
      "cell_type": "code",
      "source": [
        "hist = model.fit(x_train, y_train,\n",
        "          epochs=50,\n",
        "          batch_size=128,\n",
        "          validation_data=(x_test, y_test),\n",
        "         )"
      ],
      "metadata": {
        "colab": {
          "base_uri": "https://localhost:8080/"
        },
        "id": "BZjcOmCtum5Q",
        "outputId": "0a9f0530-deba-4836-aad0-8d1253cafb90"
      },
      "execution_count": null,
      "outputs": [
        {
          "output_type": "stream",
          "name": "stdout",
          "text": [
            "Epoch 1/50\n",
            "44/44 [==============================] - 5s 79ms/step - loss: 14.3966 - mse: 0.0028 - val_loss: 13.7565 - val_mse: 0.0051\n",
            "Epoch 2/50\n",
            "44/44 [==============================] - 3s 67ms/step - loss: 13.1502 - mse: 0.0026 - val_loss: 12.5523 - val_mse: 0.0050\n",
            "Epoch 3/50\n",
            "44/44 [==============================] - 3s 67ms/step - loss: 11.9860 - mse: 0.0026 - val_loss: 11.4296 - val_mse: 0.0051\n",
            "Epoch 4/50\n",
            "44/44 [==============================] - 3s 69ms/step - loss: 10.9013 - mse: 0.0026 - val_loss: 10.3843 - val_mse: 0.0050\n",
            "Epoch 5/50\n",
            "44/44 [==============================] - 3s 67ms/step - loss: 9.8926 - mse: 0.0026 - val_loss: 9.4134 - val_mse: 0.0050\n",
            "Epoch 6/50\n",
            "44/44 [==============================] - 3s 69ms/step - loss: 8.9564 - mse: 0.0026 - val_loss: 8.5131 - val_mse: 0.0050\n",
            "Epoch 7/50\n",
            "44/44 [==============================] - 3s 66ms/step - loss: 8.0894 - mse: 0.0026 - val_loss: 7.6803 - val_mse: 0.0050\n",
            "Epoch 8/50\n",
            "44/44 [==============================] - 3s 69ms/step - loss: 7.2881 - mse: 0.0026 - val_loss: 6.9116 - val_mse: 0.0050\n",
            "Epoch 9/50\n",
            "44/44 [==============================] - 3s 65ms/step - loss: 6.5493 - mse: 0.0026 - val_loss: 6.2036 - val_mse: 0.0050\n",
            "Epoch 10/50\n",
            "44/44 [==============================] - 3s 60ms/step - loss: 5.8697 - mse: 0.0026 - val_loss: 5.5534 - val_mse: 0.0050\n",
            "Epoch 11/50\n",
            "44/44 [==============================] - 3s 60ms/step - loss: 5.2461 - mse: 0.0026 - val_loss: 4.9574 - val_mse: 0.0050\n",
            "Epoch 12/50\n",
            "44/44 [==============================] - 3s 60ms/step - loss: 4.6754 - mse: 0.0026 - val_loss: 4.4128 - val_mse: 0.0050\n",
            "Epoch 13/50\n",
            "44/44 [==============================] - 3s 60ms/step - loss: 4.1545 - mse: 0.0026 - val_loss: 3.9163 - val_mse: 0.0050\n",
            "Epoch 14/50\n",
            "44/44 [==============================] - 3s 60ms/step - loss: 3.6805 - mse: 0.0026 - val_loss: 3.4652 - val_mse: 0.0050\n",
            "Epoch 15/50\n",
            "44/44 [==============================] - 3s 60ms/step - loss: 3.2504 - mse: 0.0026 - val_loss: 3.0566 - val_mse: 0.0050\n",
            "Epoch 16/50\n",
            "44/44 [==============================] - 3s 60ms/step - loss: 2.8613 - mse: 0.0026 - val_loss: 2.6876 - val_mse: 0.0050\n",
            "Epoch 17/50\n",
            "44/44 [==============================] - 3s 61ms/step - loss: 2.5104 - mse: 0.0026 - val_loss: 2.3554 - val_mse: 0.0050\n",
            "Epoch 18/50\n",
            "44/44 [==============================] - 3s 61ms/step - loss: 2.1951 - mse: 0.0026 - val_loss: 2.0574 - val_mse: 0.0050\n",
            "Epoch 19/50\n",
            "44/44 [==============================] - 3s 61ms/step - loss: 1.9128 - mse: 0.0026 - val_loss: 1.7911 - val_mse: 0.0050\n",
            "Epoch 20/50\n",
            "44/44 [==============================] - 3s 61ms/step - loss: 1.6609 - mse: 0.0026 - val_loss: 1.5540 - val_mse: 0.0050\n",
            "Epoch 21/50\n",
            "44/44 [==============================] - 3s 61ms/step - loss: 1.4370 - mse: 0.0026 - val_loss: 1.3437 - val_mse: 0.0050\n",
            "Epoch 22/50\n",
            "44/44 [==============================] - 3s 62ms/step - loss: 1.2388 - mse: 0.0026 - val_loss: 1.1577 - val_mse: 0.0050\n",
            "Epoch 23/50\n",
            "44/44 [==============================] - 3s 61ms/step - loss: 1.0641 - mse: 0.0026 - val_loss: 0.9942 - val_mse: 0.0050\n",
            "Epoch 24/50\n",
            "44/44 [==============================] - 3s 62ms/step - loss: 0.9107 - mse: 0.0026 - val_loss: 0.8511 - val_mse: 0.0050\n",
            "Epoch 25/50\n",
            "44/44 [==============================] - 3s 62ms/step - loss: 0.7765 - mse: 0.0026 - val_loss: 0.7262 - val_mse: 0.0050\n",
            "Epoch 26/50\n",
            "44/44 [==============================] - 3s 63ms/step - loss: 0.6598 - mse: 0.0026 - val_loss: 0.6178 - val_mse: 0.0050\n",
            "Epoch 27/50\n",
            "44/44 [==============================] - 3s 62ms/step - loss: 0.5588 - mse: 0.0026 - val_loss: 0.5242 - val_mse: 0.0050\n",
            "Epoch 28/50\n",
            "44/44 [==============================] - 3s 62ms/step - loss: 0.4717 - mse: 0.0026 - val_loss: 0.4438 - val_mse: 0.0050\n",
            "Epoch 29/50\n",
            "44/44 [==============================] - 3s 61ms/step - loss: 0.3971 - mse: 0.0026 - val_loss: 0.3750 - val_mse: 0.0050\n",
            "Epoch 30/50\n",
            "44/44 [==============================] - 3s 62ms/step - loss: 0.3334 - mse: 0.0026 - val_loss: 0.3164 - val_mse: 0.0050\n",
            "Epoch 31/50\n",
            "44/44 [==============================] - 3s 62ms/step - loss: 0.2793 - mse: 0.0026 - val_loss: 0.2668 - val_mse: 0.0050\n",
            "Epoch 32/50\n",
            "44/44 [==============================] - 3s 61ms/step - loss: 0.2337 - mse: 0.0026 - val_loss: 0.2252 - val_mse: 0.0050\n",
            "Epoch 33/50\n",
            "44/44 [==============================] - 3s 61ms/step - loss: 0.1955 - mse: 0.0026 - val_loss: 0.1903 - val_mse: 0.0050\n",
            "Epoch 34/50\n",
            "44/44 [==============================] - 3s 60ms/step - loss: 0.1636 - mse: 0.0026 - val_loss: 0.1614 - val_mse: 0.0050\n",
            "Epoch 35/50\n",
            "44/44 [==============================] - 3s 61ms/step - loss: 0.1371 - mse: 0.0026 - val_loss: 0.1374 - val_mse: 0.0050\n",
            "Epoch 36/50\n",
            "44/44 [==============================] - 3s 62ms/step - loss: 0.1153 - mse: 0.0026 - val_loss: 0.1178 - val_mse: 0.0050\n",
            "Epoch 37/50\n",
            "44/44 [==============================] - 3s 71ms/step - loss: 0.0975 - mse: 0.0026 - val_loss: 0.1018 - val_mse: 0.0050\n",
            "Epoch 38/50\n",
            "44/44 [==============================] - 3s 61ms/step - loss: 0.0830 - mse: 0.0026 - val_loss: 0.0887 - val_mse: 0.0050\n",
            "Epoch 39/50\n",
            "44/44 [==============================] - 3s 60ms/step - loss: 0.0712 - mse: 0.0026 - val_loss: 0.0783 - val_mse: 0.0050\n",
            "Epoch 40/50\n",
            "44/44 [==============================] - 3s 60ms/step - loss: 0.0618 - mse: 0.0026 - val_loss: 0.0700 - val_mse: 0.0050\n",
            "Epoch 41/50\n",
            "44/44 [==============================] - 3s 61ms/step - loss: 0.0543 - mse: 0.0026 - val_loss: 0.0632 - val_mse: 0.0050\n",
            "Epoch 42/50\n",
            "44/44 [==============================] - 3s 60ms/step - loss: 0.0483 - mse: 0.0026 - val_loss: 0.0579 - val_mse: 0.0050\n",
            "Epoch 43/50\n",
            "44/44 [==============================] - 3s 60ms/step - loss: 0.0437 - mse: 0.0026 - val_loss: 0.0538 - val_mse: 0.0050\n",
            "Epoch 44/50\n",
            "44/44 [==============================] - 3s 60ms/step - loss: 0.0400 - mse: 0.0026 - val_loss: 0.0506 - val_mse: 0.0050\n",
            "Epoch 45/50\n",
            "44/44 [==============================] - 3s 61ms/step - loss: 0.0372 - mse: 0.0026 - val_loss: 0.0481 - val_mse: 0.0050\n",
            "Epoch 46/50\n",
            "44/44 [==============================] - 3s 61ms/step - loss: 0.0350 - mse: 0.0026 - val_loss: 0.0463 - val_mse: 0.0050\n",
            "Epoch 47/50\n",
            "44/44 [==============================] - 3s 60ms/step - loss: 0.0334 - mse: 0.0026 - val_loss: 0.0448 - val_mse: 0.0050\n",
            "Epoch 48/50\n",
            "44/44 [==============================] - 3s 60ms/step - loss: 0.0321 - mse: 0.0026 - val_loss: 0.0437 - val_mse: 0.0050\n",
            "Epoch 49/50\n",
            "44/44 [==============================] - 3s 61ms/step - loss: 0.0312 - mse: 0.0026 - val_loss: 0.0429 - val_mse: 0.0050\n",
            "Epoch 50/50\n",
            "44/44 [==============================] - 3s 61ms/step - loss: 0.0305 - mse: 0.0026 - val_loss: 0.0425 - val_mse: 0.0050\n"
          ]
        }
      ]
    },
    {
      "cell_type": "code",
      "source": [
        "\n",
        "# Importing libraries\n",
        "import matplotlib.pyplot as plt\n",
        "import numpy as np\n",
        "import math\n",
        "new=forecast(model, x_train, 336)\n",
        "\n",
        "# Using Numpy to create an array X\n",
        "#X = np.arange(0,  , 1)\n",
        "\n",
        "# Assign variables to the y axis part of the curve\n",
        "fact =cons.state.to_numpy().reshape(-1, 1)\n",
        "print(fact)\n",
        "new=forecast(model, fact[-48:-24], 24)\n",
        "new=scalar.inverse_transform(new.reshape(-1, 1))\n",
        "print(new)\n",
        "\n",
        "\n",
        "pre=np.array(fact[:-24].reshape(6967,))\n",
        "post=np.array(new.reshape(24,))\n",
        "pred = np.concatenate((pre, post), axis=0)\n",
        "pred=pred.reshape(6991,)\n",
        "\n",
        "print(f'the fact is {new/24} and the prediction is {pred/24}')\n",
        "\n",
        "# Plotting both the curves simultaneously\n",
        "plt.plot( scalar.inverse_transform(y_train.reshape(-1, 1))[-24:], color='r', label='Fact')\n",
        "plt.plot( new.reshape(24,), color='g', label='Prediction')\n",
        "\n",
        "# Naming the x-axis, y-axis and the whole graph\n",
        "plt.xlabel(\"Hour\")\n",
        "plt.ylabel(\"KWh\")\n",
        "plt.title(\"Sine and Cosine functions\")\n",
        "\n",
        "# Adding legend, which helps us recognize the curve according to it's color\n",
        "plt.legend()\n",
        "\n",
        "# To load the display window\n",
        "plt.show()"
      ],
      "metadata": {
        "id": "nPcoeQGTuruA",
        "colab": {
          "base_uri": "https://localhost:8080/",
          "height": 1000
        },
        "outputId": "37d427de-b33d-407d-86ad-18158f1401b3"
      },
      "execution_count": null,
      "outputs": [
        {
          "output_type": "stream",
          "name": "stdout",
          "text": [
            "[[ 103.6]\n",
            " [ 103.7]\n",
            " [ 104. ]\n",
            " ...\n",
            " [1221.6]\n",
            " [1221.9]\n",
            " [1222. ]]\n",
            "[[0.        ]\n",
            " [0.        ]\n",
            " [1.9553875 ]\n",
            " [0.95328826]\n",
            " [0.        ]\n",
            " [0.        ]\n",
            " [2.8578804 ]\n",
            " [0.        ]\n",
            " [0.        ]\n",
            " [0.        ]\n",
            " [0.07524458]\n",
            " [0.9663947 ]\n",
            " [0.03367174]\n",
            " [1.7694049 ]\n",
            " [2.1115472 ]\n",
            " [1.3630253 ]\n",
            " [0.7750969 ]\n",
            " [2.2886863 ]\n",
            " [0.        ]\n",
            " [0.        ]\n",
            " [0.        ]\n",
            " [1.7106467 ]\n",
            " [0.        ]\n",
            " [3.7946706 ]]\n",
            "the fact is [[0.        ]\n",
            " [0.        ]\n",
            " [0.08147448]\n",
            " [0.03972035]\n",
            " [0.        ]\n",
            " [0.        ]\n",
            " [0.11907835]\n",
            " [0.        ]\n",
            " [0.        ]\n",
            " [0.        ]\n",
            " [0.00313519]\n",
            " [0.04026645]\n",
            " [0.00140299]\n",
            " [0.0737252 ]\n",
            " [0.08798113]\n",
            " [0.05679272]\n",
            " [0.0322957 ]\n",
            " [0.09536193]\n",
            " [0.        ]\n",
            " [0.        ]\n",
            " [0.        ]\n",
            " [0.07127695]\n",
            " [0.        ]\n",
            " [0.15811127]] and the prediction is [4.31666667 4.32083333 4.33333333 ... 0.07127695 0.         0.15811127]\n"
          ]
        },
        {
          "output_type": "display_data",
          "data": {
            "text/plain": [
              "<Figure size 1080x576 with 1 Axes>"
            ],
            "image/png": "[encoded data removed]"
          },
          "metadata": {}
        }
      ]
    },
    {
      "cell_type": "code",
      "source": [],
      "metadata": {
        "id": "eEo40bheLF6P"
      },
      "execution_count": null,
      "outputs": []
    }
  ],
  "metadata": {
    "kernelspec": {
      "display_name": "Python 3",
      "language": "python",
      "name": "python3"
    },
    "language_info": {
      "codemirror_mode": {
        "name": "ipython",
        "version": 3
      },
      "file_extension": ".py",
      "mimetype": "text/x-python",
      "name": "python",
      "nbconvert_exporter": "python",
      "pygments_lexer": "ipython3",
      "version": "3.7.6"
    },
    "colab": {
      "provenance": []
    },
    "accelerator": "GPU",
    "gpuClass": "standard"
  },
  "nbformat": 4,
  "nbformat_minor": 0
}